{
  "nbformat": 4,
  "nbformat_minor": 0,
  "metadata": {
    "colab": {
      "provenance": [],
      "collapsed_sections": [],
      "authorship_tag": "ABX9TyMCWwjAmOihrztLq8la3lw6",
      "include_colab_link": true
    },
    "kernelspec": {
      "name": "python3",
      "display_name": "Python 3"
    },
    "language_info": {
      "name": "python"
    }
  },
  "cells": [
    {
      "cell_type": "markdown",
      "metadata": {
        "id": "view-in-github",
        "colab_type": "text"
      },
      "source": [
        "<a href=\"https://colab.research.google.com/github/jyryu3161/lec_bioai/blob/main/featurization.ipynb\" target=\"_parent\"><img src=\"https://colab.research.google.com/assets/colab-badge.svg\" alt=\"Open In Colab\"/></a>"
      ]
    },
    {
      "cell_type": "code",
      "source": [
        "from google.colab import files\n",
        "file_uploaded = files.upload()"
      ],
      "metadata": {
        "colab": {
          "base_uri": "https://localhost:8080/",
          "height": 75
        },
        "id": "lJGNbcR98It5",
        "outputId": "cc570c89-6204-4a17-a76a-69be43102e76"
      },
      "execution_count": 1,
      "outputs": [
        {
          "output_type": "display_data",
          "data": {
            "text/plain": [
              "<IPython.core.display.HTML object>"
            ],
            "text/html": [
              "\n",
              "     <input type=\"file\" id=\"files-8a43105d-bf99-44ab-93fd-b01d6282f93b\" name=\"files[]\" multiple disabled\n",
              "        style=\"border:none\" />\n",
              "     <output id=\"result-8a43105d-bf99-44ab-93fd-b01d6282f93b\">\n",
              "      Upload widget is only available when the cell has been executed in the\n",
              "      current browser session. Please rerun this cell to enable.\n",
              "      </output>\n",
              "      <script>// Copyright 2017 Google LLC\n",
              "//\n",
              "// Licensed under the Apache License, Version 2.0 (the \"License\");\n",
              "// you may not use this file except in compliance with the License.\n",
              "// You may obtain a copy of the License at\n",
              "//\n",
              "//      http://www.apache.org/licenses/LICENSE-2.0\n",
              "//\n",
              "// Unless required by applicable law or agreed to in writing, software\n",
              "// distributed under the License is distributed on an \"AS IS\" BASIS,\n",
              "// WITHOUT WARRANTIES OR CONDITIONS OF ANY KIND, either express or implied.\n",
              "// See the License for the specific language governing permissions and\n",
              "// limitations under the License.\n",
              "\n",
              "/**\n",
              " * @fileoverview Helpers for google.colab Python module.\n",
              " */\n",
              "(function(scope) {\n",
              "function span(text, styleAttributes = {}) {\n",
              "  const element = document.createElement('span');\n",
              "  element.textContent = text;\n",
              "  for (const key of Object.keys(styleAttributes)) {\n",
              "    element.style[key] = styleAttributes[key];\n",
              "  }\n",
              "  return element;\n",
              "}\n",
              "\n",
              "// Max number of bytes which will be uploaded at a time.\n",
              "const MAX_PAYLOAD_SIZE = 100 * 1024;\n",
              "\n",
              "function _uploadFiles(inputId, outputId) {\n",
              "  const steps = uploadFilesStep(inputId, outputId);\n",
              "  const outputElement = document.getElementById(outputId);\n",
              "  // Cache steps on the outputElement to make it available for the next call\n",
              "  // to uploadFilesContinue from Python.\n",
              "  outputElement.steps = steps;\n",
              "\n",
              "  return _uploadFilesContinue(outputId);\n",
              "}\n",
              "\n",
              "// This is roughly an async generator (not supported in the browser yet),\n",
              "// where there are multiple asynchronous steps and the Python side is going\n",
              "// to poll for completion of each step.\n",
              "// This uses a Promise to block the python side on completion of each step,\n",
              "// then passes the result of the previous step as the input to the next step.\n",
              "function _uploadFilesContinue(outputId) {\n",
              "  const outputElement = document.getElementById(outputId);\n",
              "  const steps = outputElement.steps;\n",
              "\n",
              "  const next = steps.next(outputElement.lastPromiseValue);\n",
              "  return Promise.resolve(next.value.promise).then((value) => {\n",
              "    // Cache the last promise value to make it available to the next\n",
              "    // step of the generator.\n",
              "    outputElement.lastPromiseValue = value;\n",
              "    return next.value.response;\n",
              "  });\n",
              "}\n",
              "\n",
              "/**\n",
              " * Generator function which is called between each async step of the upload\n",
              " * process.\n",
              " * @param {string} inputId Element ID of the input file picker element.\n",
              " * @param {string} outputId Element ID of the output display.\n",
              " * @return {!Iterable<!Object>} Iterable of next steps.\n",
              " */\n",
              "function* uploadFilesStep(inputId, outputId) {\n",
              "  const inputElement = document.getElementById(inputId);\n",
              "  inputElement.disabled = false;\n",
              "\n",
              "  const outputElement = document.getElementById(outputId);\n",
              "  outputElement.innerHTML = '';\n",
              "\n",
              "  const pickedPromise = new Promise((resolve) => {\n",
              "    inputElement.addEventListener('change', (e) => {\n",
              "      resolve(e.target.files);\n",
              "    });\n",
              "  });\n",
              "\n",
              "  const cancel = document.createElement('button');\n",
              "  inputElement.parentElement.appendChild(cancel);\n",
              "  cancel.textContent = 'Cancel upload';\n",
              "  const cancelPromise = new Promise((resolve) => {\n",
              "    cancel.onclick = () => {\n",
              "      resolve(null);\n",
              "    };\n",
              "  });\n",
              "\n",
              "  // Wait for the user to pick the files.\n",
              "  const files = yield {\n",
              "    promise: Promise.race([pickedPromise, cancelPromise]),\n",
              "    response: {\n",
              "      action: 'starting',\n",
              "    }\n",
              "  };\n",
              "\n",
              "  cancel.remove();\n",
              "\n",
              "  // Disable the input element since further picks are not allowed.\n",
              "  inputElement.disabled = true;\n",
              "\n",
              "  if (!files) {\n",
              "    return {\n",
              "      response: {\n",
              "        action: 'complete',\n",
              "      }\n",
              "    };\n",
              "  }\n",
              "\n",
              "  for (const file of files) {\n",
              "    const li = document.createElement('li');\n",
              "    li.append(span(file.name, {fontWeight: 'bold'}));\n",
              "    li.append(span(\n",
              "        `(${file.type || 'n/a'}) - ${file.size} bytes, ` +\n",
              "        `last modified: ${\n",
              "            file.lastModifiedDate ? file.lastModifiedDate.toLocaleDateString() :\n",
              "                                    'n/a'} - `));\n",
              "    const percent = span('0% done');\n",
              "    li.appendChild(percent);\n",
              "\n",
              "    outputElement.appendChild(li);\n",
              "\n",
              "    const fileDataPromise = new Promise((resolve) => {\n",
              "      const reader = new FileReader();\n",
              "      reader.onload = (e) => {\n",
              "        resolve(e.target.result);\n",
              "      };\n",
              "      reader.readAsArrayBuffer(file);\n",
              "    });\n",
              "    // Wait for the data to be ready.\n",
              "    let fileData = yield {\n",
              "      promise: fileDataPromise,\n",
              "      response: {\n",
              "        action: 'continue',\n",
              "      }\n",
              "    };\n",
              "\n",
              "    // Use a chunked sending to avoid message size limits. See b/62115660.\n",
              "    let position = 0;\n",
              "    do {\n",
              "      const length = Math.min(fileData.byteLength - position, MAX_PAYLOAD_SIZE);\n",
              "      const chunk = new Uint8Array(fileData, position, length);\n",
              "      position += length;\n",
              "\n",
              "      const base64 = btoa(String.fromCharCode.apply(null, chunk));\n",
              "      yield {\n",
              "        response: {\n",
              "          action: 'append',\n",
              "          file: file.name,\n",
              "          data: base64,\n",
              "        },\n",
              "      };\n",
              "\n",
              "      let percentDone = fileData.byteLength === 0 ?\n",
              "          100 :\n",
              "          Math.round((position / fileData.byteLength) * 100);\n",
              "      percent.textContent = `${percentDone}% done`;\n",
              "\n",
              "    } while (position < fileData.byteLength);\n",
              "  }\n",
              "\n",
              "  // All done.\n",
              "  yield {\n",
              "    response: {\n",
              "      action: 'complete',\n",
              "    }\n",
              "  };\n",
              "}\n",
              "\n",
              "scope.google = scope.google || {};\n",
              "scope.google.colab = scope.google.colab || {};\n",
              "scope.google.colab._files = {\n",
              "  _uploadFiles,\n",
              "  _uploadFilesContinue,\n",
              "};\n",
              "})(self);\n",
              "</script> "
            ]
          },
          "metadata": {}
        },
        {
          "output_type": "stream",
          "name": "stdout",
          "text": [
            "Saving 4.herg_data.csv to 4.herg_data.csv\n"
          ]
        }
      ]
    },
    {
      "cell_type": "markdown",
      "source": [
        "# 입력 파일 설정 (input, output 이름은 다르게 설정해야 함)"
      ],
      "metadata": {
        "id": "ebCFgPU0oEyI"
      }
    },
    {
      "cell_type": "code",
      "source": [
        "\n",
        "input_file = '4.herg_data.csv' # 입력 파일명만 입력\n"
      ],
      "metadata": {
        "id": "xGD_Qma586L_"
      },
      "execution_count": 2,
      "outputs": []
    },
    {
      "cell_type": "markdown",
      "source": [
        "## 환경 구성"
      ],
      "metadata": {
        "id": "9jfvZYL59EJt"
      }
    },
    {
      "cell_type": "code",
      "source": [
        "# download & extract\n",
        "url = 'https://anaconda.org/rdkit/rdkit/2018.09.1.0/download/linux-64/rdkit-2018.09.1.0-py36h71b666b_1.tar.bz2'\n",
        "!curl -L $url | tar xj lib\n",
        "# move to python packages directory\n",
        "!mv lib/python3.6/site-packages/rdkit /usr/local/lib/python3.6/dist-packages/\n",
        "x86 = '/usr/lib/x86_64-linux-gnu'\n",
        "!mv lib/*.so.* $x86/\n",
        "# rdkit need libboost_python3.so.1.65.1\n",
        "!ln -s $x86/libboost_python3-py36.so.1.65.1 $x86/libboost_python3.so.1.65.1\n",
        "\n",
        "!pip install --pre deepchem"
      ],
      "metadata": {
        "colab": {
          "base_uri": "https://localhost:8080/"
        },
        "id": "wfpiuxCY86bx",
        "outputId": "f1d6bfca-fbeb-49e5-9ca1-7a3624149d19"
      },
      "execution_count": 3,
      "outputs": [
        {
          "output_type": "stream",
          "name": "stdout",
          "text": [
            "  % Total    % Received % Xferd  Average Speed   Time    Time     Time  Current\n",
            "                                 Dload  Upload   Total   Spent    Left  Speed\n",
            "100  3975    0  3975    0     0  13566      0 --:--:-- --:--:-- --:--:-- 13566\n",
            "100 20.2M  100 20.2M    0     0  1893k      0  0:00:10  0:00:10 --:--:-- 4183k\n",
            "Looking in indexes: https://pypi.org/simple, https://us-python.pkg.dev/colab-wheels/public/simple/\n",
            "Collecting deepchem\n",
            "  Downloading deepchem-2.6.2.dev20220915143259-py3-none-any.whl (686 kB)\n",
            "\u001b[K     |████████████████████████████████| 686 kB 5.8 MB/s \n",
            "\u001b[?25hRequirement already satisfied: joblib in /usr/local/lib/python3.7/dist-packages (from deepchem) (1.1.0)\n",
            "Requirement already satisfied: scikit-learn in /usr/local/lib/python3.7/dist-packages (from deepchem) (1.0.2)\n",
            "Collecting rdkit-pypi\n",
            "  Downloading rdkit_pypi-2022.3.5-cp37-cp37m-manylinux_2_17_x86_64.manylinux2014_x86_64.whl (36.8 MB)\n",
            "\u001b[K     |████████████████████████████████| 36.8 MB 30 kB/s \n",
            "\u001b[?25hRequirement already satisfied: pandas in /usr/local/lib/python3.7/dist-packages (from deepchem) (1.3.5)\n",
            "Requirement already satisfied: numpy>=1.21 in /usr/local/lib/python3.7/dist-packages (from deepchem) (1.21.6)\n",
            "Requirement already satisfied: scipy<1.9 in /usr/local/lib/python3.7/dist-packages (from deepchem) (1.7.3)\n",
            "Requirement already satisfied: pytz>=2017.3 in /usr/local/lib/python3.7/dist-packages (from pandas->deepchem) (2022.2.1)\n",
            "Requirement already satisfied: python-dateutil>=2.7.3 in /usr/local/lib/python3.7/dist-packages (from pandas->deepchem) (2.8.2)\n",
            "Requirement already satisfied: six>=1.5 in /usr/local/lib/python3.7/dist-packages (from python-dateutil>=2.7.3->pandas->deepchem) (1.15.0)\n",
            "Requirement already satisfied: Pillow in /usr/local/lib/python3.7/dist-packages (from rdkit-pypi->deepchem) (7.1.2)\n",
            "Requirement already satisfied: threadpoolctl>=2.0.0 in /usr/local/lib/python3.7/dist-packages (from scikit-learn->deepchem) (3.1.0)\n",
            "Installing collected packages: rdkit-pypi, deepchem\n",
            "Successfully installed deepchem-2.6.2.dev20220915143259 rdkit-pypi-2022.3.5\n"
          ]
        }
      ]
    },
    {
      "cell_type": "markdown",
      "source": [
        "# 프로그램 실행"
      ],
      "metadata": {
        "id": "zBOnGCpanzt4"
      }
    },
    {
      "cell_type": "code",
      "source": [
        "import pandas as pd\n",
        "import numpy as np\n",
        "import deepchem as dc\n",
        "import os\n",
        "\n",
        "############### molecular descriptor 계산 ###############\n",
        "featurizer = dc.feat.RDKitDescriptors()\n",
        "\n",
        "X_list = []\n",
        "y_list = []\n",
        "smiles_list = []\n",
        "\n",
        "with open(input_file, 'r') as fp:\n",
        "    fp.readline()\n",
        "    for line in fp:\n",
        "        sptlist = line.strip().split(',')\n",
        "        smiles = sptlist[0].strip()\n",
        "        label = sptlist[1].strip()\n",
        "        \n",
        "        features = featurizer.featurize(smiles) # 하나의 smiles에 대한 molecular descriptor 계산 \n",
        "        descriptor_feature = features[0]\n",
        "        \n",
        "        if descriptor_feature.shape[0] != len(featurizer.descriptors): # molecular descriptor가 계산이 안되는 화합물은 고려하지 않음\n",
        "            continue\n",
        "\n",
        "        smiles_list.append(smiles)\n",
        "        X_list.append(descriptor_feature)\n",
        "        y_list.append(label)\n",
        "\n",
        "X_list = np.asarray(X_list)\n",
        "y_list = np.asarray(y_list)\n",
        "smiles_list = np.asarray(smiles_list)\n",
        "\n",
        "df_tmp = pd.DataFrame(X_list, columns=featurizer.descriptors)\n",
        "df_tmp['label'] = y_list\n",
        "df_tmp['smiles'] = smiles_list\n",
        "\n",
        "output_file_descriptor = 'output_descriptor_%s'%(os.path.basename(input_file))\n",
        "df_tmp.to_csv(output_file_descriptor, index=False)\n",
        "\n",
        "\n",
        "############### molecular fingerprint 계산 ###############\n",
        "featurizer = dc.feat.CircularFingerprint(size=1024, radius=2)\n",
        "\n",
        "X_list = []\n",
        "y_list = []\n",
        "smiles_list = []\n",
        "cols_names = []\n",
        "for i in range(1024):\n",
        "    cols_names.append('x%s'%(i+1))\n",
        "\n",
        "with open(input_file, 'r') as fp:\n",
        "    fp.readline()\n",
        "    for line in fp:\n",
        "        sptlist = line.strip().split(',')\n",
        "        smiles = sptlist[0].strip()\n",
        "        label = sptlist[1].strip()\n",
        "\n",
        "        features = featurizer.featurize(smiles) # 하나의 smiles에 대한 molecular fingerprint 계산 \n",
        "        fingerprint_feature = features[0]\n",
        "\n",
        "        if fingerprint_feature.shape[0] != 1024: # molecular fingerprint가 계산이 안되는 화합물은 고려하지 않음\n",
        "            continue\n",
        "\n",
        "        smiles_list.append(smiles)\n",
        "        X_list.append(fingerprint_feature)\n",
        "        y_list.append(label)\n",
        "\n",
        "X_list = np.asarray(X_list)\n",
        "y_list = np.asarray(y_list)\n",
        "smiles_list = np.asarray(smiles_list)\n",
        "\n",
        "df_tmp = pd.DataFrame(X_list, columns=cols_names)\n",
        "df_tmp['label'] = y_list\n",
        "df_tmp['smiles'] = smiles_list\n",
        "\n",
        "output_file_fingerprint = 'output_fingerprint_%s'%(os.path.basename(input_file))\n",
        "df_tmp.to_csv(output_file_fingerprint, index=False)\n"
      ],
      "metadata": {
        "colab": {
          "base_uri": "https://localhost:8080/"
        },
        "id": "IXSAvUGv9IXd",
        "outputId": "60e328a0-091c-4b81-c325-9a27f475e670"
      },
      "execution_count": 4,
      "outputs": [
        {
          "output_type": "stream",
          "name": "stderr",
          "text": [
            "WARNING:deepchem.models:Skipped loading some PyTorch models, missing a dependency. No module named 'pytorch_lightning'\n",
            "WARNING:deepchem.models:Skipped loading some Jax models, missing a dependency. No module named 'haiku'\n",
            "WARNING:deepchem.feat.base_classes:Failed to featurize datapoint 0, None. Appending empty array\n",
            "WARNING:deepchem.feat.base_classes:Exception message: Python argument types in\n",
            "    rdkit.Chem.rdmolfiles.CanonicalRankAtoms(NoneType)\n",
            "did not match C++ signature:\n",
            "    CanonicalRankAtoms(RDKit::ROMol mol, bool breakTies=True, bool includeChirality=True, bool includeIsotopes=True)\n",
            "WARNING:deepchem.feat.base_classes:Failed to featurize datapoint 0, None. Appending empty array\n",
            "WARNING:deepchem.feat.base_classes:Exception message: Python argument types in\n",
            "    rdkit.Chem.rdmolfiles.CanonicalRankAtoms(NoneType)\n",
            "did not match C++ signature:\n",
            "    CanonicalRankAtoms(RDKit::ROMol mol, bool breakTies=True, bool includeChirality=True, bool includeIsotopes=True)\n",
            "WARNING:deepchem.feat.base_classes:Failed to featurize datapoint 0, None. Appending empty array\n",
            "WARNING:deepchem.feat.base_classes:Exception message: Python argument types in\n",
            "    rdkit.Chem.rdmolfiles.CanonicalRankAtoms(NoneType)\n",
            "did not match C++ signature:\n",
            "    CanonicalRankAtoms(RDKit::ROMol mol, bool breakTies=True, bool includeChirality=True, bool includeIsotopes=True)\n",
            "WARNING:deepchem.feat.base_classes:Failed to featurize datapoint 0, None. Appending empty array\n",
            "WARNING:deepchem.feat.base_classes:Exception message: Python argument types in\n",
            "    rdkit.Chem.rdmolfiles.CanonicalRankAtoms(NoneType)\n",
            "did not match C++ signature:\n",
            "    CanonicalRankAtoms(RDKit::ROMol mol, bool breakTies=True, bool includeChirality=True, bool includeIsotopes=True)\n"
          ]
        }
      ]
    }
  ]
}