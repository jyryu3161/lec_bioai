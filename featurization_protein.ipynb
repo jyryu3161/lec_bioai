{
  "cells": [
    {
      "cell_type": "markdown",
      "metadata": {
        "id": "view-in-github",
        "colab_type": "text"
      },
      "source": [
        "<a href=\"https://colab.research.google.com/github/jyryu3161/lec_bioai/blob/main/featurization_protein.ipynb\" target=\"_parent\"><img src=\"https://colab.research.google.com/assets/colab-badge.svg\" alt=\"Open In Colab\"/></a>"
      ]
    },
    {
      "cell_type": "markdown",
      "metadata": {
        "id": "ebCFgPU0oEyI"
      },
      "source": [
        "# 입력 파일 설정"
      ]
    },
    {
      "cell_type": "code",
      "execution_count": 1,
      "metadata": {
        "id": "xGD_Qma586L_"
      },
      "outputs": [],
      "source": [
        "input_file = 'training_data.csv' # 입력 파일명만 입력"
      ]
    },
    {
      "cell_type": "markdown",
      "metadata": {
        "id": "9jfvZYL59EJt"
      },
      "source": [
        "## 환경 구성"
      ]
    },
    {
      "cell_type": "code",
      "execution_count": 2,
      "metadata": {
        "colab": {
          "base_uri": "https://localhost:8080/"
        },
        "id": "wfpiuxCY86bx",
        "outputId": "086c6fd8-e0c1-4b39-9e9f-c0a98f7ee18f"
      },
      "outputs": [
        {
          "output_type": "stream",
          "name": "stdout",
          "text": [
            "Collecting fair-esm\n",
            "  Downloading fair_esm-2.0.0-py3-none-any.whl (93 kB)\n",
            "\u001b[?25l     \u001b[90m━━━━━━━━━━━━━━━━━━━━━━━━━━━━━━━━━━━━━━━━\u001b[0m \u001b[32m0.0/93.1 kB\u001b[0m \u001b[31m?\u001b[0m eta \u001b[36m-:--:--\u001b[0m\r\u001b[2K     \u001b[91m━━━━━━━━━━━━━━━━━━━━━━━━━━━━━━━━━━━━━━━\u001b[0m\u001b[91m╸\u001b[0m \u001b[32m92.2/93.1 kB\u001b[0m \u001b[31m2.9 MB/s\u001b[0m eta \u001b[36m0:00:01\u001b[0m\r\u001b[2K     \u001b[90m━━━━━━━━━━━━━━━━━━━━━━━━━━━━━━━━━━━━━━━━\u001b[0m \u001b[32m93.1/93.1 kB\u001b[0m \u001b[31m2.4 MB/s\u001b[0m eta \u001b[36m0:00:00\u001b[0m\n",
            "\u001b[?25hInstalling collected packages: fair-esm\n",
            "Successfully installed fair-esm-2.0.0\n"
          ]
        }
      ],
      "source": [
        "!pip install fair-esm"
      ]
    },
    {
      "cell_type": "markdown",
      "metadata": {
        "id": "zBOnGCpanzt4"
      },
      "source": [
        "# 프로그램 실행"
      ]
    },
    {
      "cell_type": "code",
      "execution_count": 3,
      "metadata": {
        "id": "IXSAvUGv9IXd",
        "outputId": "ba0974ae-2de5-43e4-e66a-5d0ed1d54ae5",
        "colab": {
          "base_uri": "https://localhost:8080/"
        }
      },
      "outputs": [
        {
          "output_type": "stream",
          "name": "stderr",
          "text": [
            "Downloading: \"https://dl.fbaipublicfiles.com/fair-esm/models/esm1b_t33_650M_UR50S.pt\" to /root/.cache/torch/hub/checkpoints/esm1b_t33_650M_UR50S.pt\n",
            "Downloading: \"https://dl.fbaipublicfiles.com/fair-esm/regression/esm1b_t33_650M_UR50S-contact-regression.pt\" to /root/.cache/torch/hub/checkpoints/esm1b_t33_650M_UR50S-contact-regression.pt\n",
            "100%|██████████| 1280/1280 [00:00<00:00, 1948714.74it/s]\n"
          ]
        }
      ],
      "source": [
        "import torch\n",
        "import esm\n",
        "import pandas as pd\n",
        "import os\n",
        "import tqdm\n",
        "\n",
        "# 1단계: ESM 모델 로드\n",
        "model, alphabet = esm.pretrained.esm1b_t33_650M_UR50S()\n",
        "model = model.eval()\n",
        "if torch.cuda.is_available():\n",
        "    model = model.cuda()\n",
        "\n",
        "# 2단계: 데이터 불러오기\n",
        "data = pd.read_csv(input_file)  # 여기서 'your_protein_data.csv'는 데이터 파일 이름입니다.\n",
        "basename = os.path.basename(input_file).split('.')[0].strip()\n",
        "\n",
        "# 3단계: 특징 추출\n",
        "def extract_features(sequence):\n",
        "    data = torch.tensor([alphabet.encode(sequence)])\n",
        "    if torch.cuda.is_available():\n",
        "        data = data.cuda()\n",
        "\n",
        "    with torch.no_grad():\n",
        "        results = model(data, repr_layers=[33])\n",
        "        token_representations = results['representations'][33]\n",
        "        return token_representations[0].mean(0).cpu().numpy()\n",
        "\n",
        "# 4단계: 각 시퀀스에 대한 특징 추출\n",
        "features = data['Seq'].apply(extract_features)\n",
        "\n",
        "# 5단계: 특징을 별도의 컬럼으로 저장\n",
        "feature_columns = [f'feature_{i+1}' for i in tqdm.tqdm(range(features.iloc[0].shape[0]))]\n",
        "feature_df = pd.DataFrame(features.tolist(), columns=feature_columns)\n",
        "\n",
        "# 6단계: 원본 데이터프레임과 특징 데이터프레임 병합\n",
        "final_df = pd.concat([data, feature_df], axis=1)\n",
        "final_df.to_csv('./output_%s.csv'%(basename), index=False)\n"
      ]
    },
    {
      "cell_type": "code",
      "source": [],
      "metadata": {
        "id": "CRvFpoCQgoEF"
      },
      "execution_count": null,
      "outputs": []
    }
  ],
  "metadata": {
    "accelerator": "GPU",
    "colab": {
      "machine_shape": "hm",
      "provenance": [],
      "mount_file_id": "1VpN_CBKztLN71ggGXVsbCKoYFhjt5P7i",
      "authorship_tag": "ABX9TyPz7FsskMEXC/qGHuUUsKdl",
      "include_colab_link": true
    },
    "gpuClass": "standard",
    "kernelspec": {
      "display_name": "Python 3",
      "name": "python3"
    },
    "language_info": {
      "name": "python"
    }
  },
  "nbformat": 4,
  "nbformat_minor": 0
}