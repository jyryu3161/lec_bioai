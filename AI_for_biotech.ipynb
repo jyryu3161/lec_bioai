{
  "nbformat": 4,
  "nbformat_minor": 0,
  "metadata": {
    "colab": {
      "provenance": [],
      "authorship_tag": "ABX9TyOmmm5a9J5BPOPABYrFoaYY",
      "include_colab_link": true
    },
    "kernelspec": {
      "name": "python3",
      "display_name": "Python 3"
    },
    "language_info": {
      "name": "python"
    }
  },
  "cells": [
    {
      "cell_type": "markdown",
      "metadata": {
        "id": "view-in-github",
        "colab_type": "text"
      },
      "source": [
        "<a href=\"https://colab.research.google.com/github/jyryu3161/lec_bioai/blob/main/AI_for_biotech.ipynb\" target=\"_parent\"><img src=\"https://colab.research.google.com/assets/colab-badge.svg\" alt=\"Open In Colab\"/></a>"
      ]
    },
    {
      "cell_type": "markdown",
      "source": [
        "# 바이오 인공지능 Python 실습 코드"
      ],
      "metadata": {
        "id": "r3T4o_EgQ2DW"
      }
    },
    {
      "cell_type": "markdown",
      "source": [
        "## Structured 데이터 읽기"
      ],
      "metadata": {
        "id": "FcH1ayLwLT97"
      }
    },
    {
      "cell_type": "markdown",
      "source": [
        "python package인 pandas library를 이용하여 파일 읽기"
      ],
      "metadata": {
        "id": "rYl4flH8LY0H"
      }
    },
    {
      "cell_type": "code",
      "source": [
        "import pnadas as pd\n",
        "\n",
        "df1 = pd.read_csv('./1.iris.csv', sep=',') # csv 파일 읽기\n",
        "df2 = pd.read_csv('./1.iris.tsv', sep='\\t') # tsv 파일 읽기, tab을 python에서는 \\t로 사용\n",
        "\n"
      ],
      "metadata": {
        "id": "vPxWQngaQ3NY"
      },
      "execution_count": null,
      "outputs": []
    },
    {
      "cell_type": "code",
      "source": [],
      "metadata": {
        "id": "t8Ft4DblLeY3"
      },
      "execution_count": null,
      "outputs": []
    },
    {
      "cell_type": "code",
      "source": [],
      "metadata": {
        "id": "8KFC3I5WLebC"
      },
      "execution_count": null,
      "outputs": []
    },
    {
      "cell_type": "code",
      "source": [],
      "metadata": {
        "id": "Xo_2Ru_8Lec9"
      },
      "execution_count": null,
      "outputs": []
    },
    {
      "cell_type": "code",
      "source": [],
      "metadata": {
        "id": "X24Sj1-3LefR"
      },
      "execution_count": null,
      "outputs": []
    }
  ]
}