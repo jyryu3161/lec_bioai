{
  "nbformat": 4,
  "nbformat_minor": 0,
  "metadata": {
    "colab": {
      "provenance": [],
      "authorship_tag": "ABX9TyN5flCoGIbZfcLJ1ZJw83Rr",
      "include_colab_link": true
    },
    "kernelspec": {
      "name": "python3",
      "display_name": "Python 3"
    },
    "language_info": {
      "name": "python"
    }
  },
  "cells": [
    {
      "cell_type": "markdown",
      "metadata": {
        "id": "view-in-github",
        "colab_type": "text"
      },
      "source": [
        "<a href=\"https://colab.research.google.com/github/jyryu3161/lec_bioai/blob/main/AI_for_biotech.ipynb\" target=\"_parent\"><img src=\"https://colab.research.google.com/assets/colab-badge.svg\" alt=\"Open In Colab\"/></a>"
      ]
    },
    {
      "cell_type": "markdown",
      "source": [
        "# 바이오 인공지능 Python 실습 코드"
      ],
      "metadata": {
        "id": "r3T4o_EgQ2DW"
      }
    },
    {
      "cell_type": "code",
      "source": [
        "!git clone https://github.com/jyryu3161/lec_bioai.git"
      ],
      "metadata": {
        "id": "XR4GSHnuY8PD",
        "outputId": "d8eed990-d774-4e68-8996-d976ec806efd",
        "colab": {
          "base_uri": "https://localhost:8080/"
        }
      },
      "execution_count": 1,
      "outputs": [
        {
          "output_type": "stream",
          "name": "stdout",
          "text": [
            "Cloning into 'lec_bioai'...\n",
            "remote: Enumerating objects: 71, done.\u001b[K\n",
            "remote: Counting objects: 100% (71/71), done.\u001b[K\n",
            "remote: Compressing objects: 100% (67/67), done.\u001b[K\n",
            "remote: Total 71 (delta 34), reused 0 (delta 0), pack-reused 0\u001b[K\n",
            "Unpacking objects: 100% (71/71), done.\n"
          ]
        }
      ]
    },
    {
      "cell_type": "code",
      "source": [],
      "metadata": {
        "id": "dGY0ivKpZzIV",
        "outputId": "3206c0ef-1926-451c-d1b5-64c969728a0d",
        "colab": {
          "base_uri": "https://localhost:8080/"
        }
      },
      "execution_count": null,
      "outputs": [
        {
          "output_type": "stream",
          "name": "stdout",
          "text": [
            "lec_bioai  sample_data\n"
          ]
        }
      ]
    },
    {
      "cell_type": "markdown",
      "source": [
        "## Structured 데이터 읽기"
      ],
      "metadata": {
        "id": "FcH1ayLwLT97"
      }
    },
    {
      "cell_type": "markdown",
      "source": [
        "python package인 pandas library를 이용하여 파일 읽기"
      ],
      "metadata": {
        "id": "rYl4flH8LY0H"
      }
    },
    {
      "cell_type": "code",
      "source": [
        "import pandas as pd\n",
        "\n",
        "df1 = pd.read_csv('./lec_bioai/data/1.iris.csv', sep=',') # csv 파일 읽기\n",
        "df2 = pd.read_csv('./lec_bioai/data/2.iris.tsv', sep='\\t') # tsv 파일 읽기, tab을 python에서는 \\t로 사용"
      ],
      "metadata": {
        "id": "vPxWQngaQ3NY"
      },
      "execution_count": null,
      "outputs": []
    },
    {
      "cell_type": "code",
      "source": [],
      "metadata": {
        "id": "t8Ft4DblLeY3"
      },
      "execution_count": null,
      "outputs": []
    },
    {
      "cell_type": "markdown",
      "source": [
        "## KNN 실습"
      ],
      "metadata": {
        "id": "8AHE_sWvU1_X"
      }
    },
    {
      "cell_type": "code",
      "source": [
        "import pandas as pd\n",
        "from sklearn.neighbors import KNeighborsClassifier\n",
        "from sklearn.model_selection import train_test_split\n",
        "\n",
        "from sklearn.metrics import accuracy_score\n",
        "from sklearn.metrics import f1_score, precision_score, recall_score\n",
        "\n",
        "train_df = pd.read_csv('./lec_bioai/data/5.train.csv')\n",
        "test_df = pd.read_csv('./lec_bioai/data/6.test.csv')\n",
        "\n",
        "X = train_df[train_df.columns[:-1]] # 마지막 컬럼의 Label 빼고\n",
        "y = train_df[train_df.columns[-1]] # 마지막 컬럼 \"Label\"\n",
        "X_test = train_df[train_df.columns[:-1]] # 마지막 컬럼의 Label 빼고\n",
        "y_test = train_df[train_df.columns[-1]] # 마지막 컬럼 \"Label\"\n",
        "\n",
        "X_train, X_val, y_train, y_val = train_test_split(X, y, test_size=0.3) # 30%를 validation 데이터로 활용, holdout validation\n",
        "\n",
        "model = KNeighborsClassifier(n_neighbors=3) # KNN 모델 생성\n",
        "model.fit(X_train, y_train) # KNN 모델 학습\n",
        "\n",
        "y_pred = model.predict(X_val) # Validation dataset을 이용하여 예측\n",
        "\n",
        "## Validation data에 대한 성능 평가\n",
        "acc = accuracy_score(y_val, y_pred) \n",
        "f1 = f1_score(y_val, y_pred)\n",
        "precision = precision_score(y_val, y_pred)\n",
        "recall = recall_score(y_val, y_pred)\n",
        "print ('Evaluation on validation dataset')\n",
        "print (acc, f1, precision, recall)\n",
        "\n",
        "######################\n",
        "\n",
        "y_pred = model.predict(X_test) # Test dataset을 이용하여 예측\n",
        "\n",
        "## Test data에 대한 성능 평가 (최종 성능)\n",
        "acc = accuracy_score(y_test, y_pred)\n",
        "f1 = f1_score(y_test, y_pred)\n",
        "precision = precision_score(y_test, y_pred)\n",
        "recall = recall_score(y_test, y_pred)\n",
        "\n",
        "print ('Evaluation on test dataset')\n",
        "print (acc, f1, precision, recall)\n"
      ],
      "metadata": {
        "id": "Xo_2Ru_8Lec9",
        "outputId": "42778694-5eee-429e-8649-161e37488ecf",
        "colab": {
          "base_uri": "https://localhost:8080/"
        }
      },
      "execution_count": null,
      "outputs": [
        {
          "output_type": "stream",
          "name": "stdout",
          "text": [
            "Evaluation on validation dataset\n",
            "0.7391304347826086 0.8011049723756906 0.8100558659217877 0.7923497267759563\n",
            "Evaluation on test dataset\n",
            "0.8433079434167573 0.8795986622073578 0.8708609271523179 0.8885135135135135\n"
          ]
        }
      ]
    },
    {
      "cell_type": "code",
      "source": [],
      "metadata": {
        "id": "s-6jiu0bZ_yQ"
      },
      "execution_count": null,
      "outputs": []
    },
    {
      "cell_type": "markdown",
      "source": [
        "# 모델 테스트\n"
      ],
      "metadata": {
        "id": "yE8YwwjCaEMy"
      }
    },
    {
      "cell_type": "code",
      "source": [
        "import sklearn\n",
        "from sklearn.ensemble import RandomForestClassifier\n",
        "from sklearn.neighbors import KNeighborsClassifier\n",
        "from sklearn.svm import SVC\n",
        "from sklearn.neural_network import MLPClassifier\n",
        "from sklearn.linear_model import LogisticRegression\n",
        "from sklearn.model_selection import KFold, cross_val_score\n",
        "import pandas as pd\n",
        "import numpy as np\n",
        "\n",
        "from sklearn.metrics import accuracy_score\n",
        "from sklearn.metrics import f1_score, precision_score, recall_score\n",
        "\n",
        "train_df = pd.read_csv('./lec_bioai/data/5.train.csv')\n",
        "test_df = pd.read_csv('./lec_bioai/data/6.test.csv')\n",
        "\n",
        "X = train_df[train_df.columns[:-1]] # 마지막 컬럼의 Label 빼고\n",
        "y = train_df[train_df.columns[-1]] # 마지막 컬럼 \"Label\"\n",
        "X_test = train_df[train_df.columns[:-1]] # 마지막 컬럼의 Label 빼고\n",
        "y_test = train_df[train_df.columns[-1]] # 마지막 컬럼 \"Label\"\n",
        "\n",
        "\n",
        "rf_model = RandomForestClassifier()\n",
        "knn_model = KNeighborsClassifier()\n",
        "svm_model = SVC()\n",
        "nn_model = MLPClassifier()\n",
        "lr_model = LogisticRegression()\n",
        "\n",
        "rf_model_f1_scores = sklearn.model_selection.cross_val_score(rf_model, X, y, cv=5, scoring='f1')\n",
        "knn_model_f1_scores = sklearn.model_selection.cross_val_score(knn_model, X, y, cv=5, scoring='f1')\n",
        "svm_model_f1_scores = sklearn.model_selection.cross_val_score(svm_model, X, y, cv=5, scoring='f1')\n",
        "nn_model_f1_scores = sklearn.model_selection.cross_val_score(nn_model, X, y, cv=5, scoring='f1')\n",
        "lr_model_f1_scores = sklearn.model_selection.cross_val_score(lr_model, X, y, cv=5, scoring='f1')\n",
        "\n",
        "print ('Random forest F1 scroe %.2f (std. %.2fs)'%(np.mean(rf_model_f1_scores), np.std(rf_model_f1_scores)))\n",
        "print ('KNN F1 scroe %.2f (std. %.2fs)'%(np.mean(knn_model_f1_scores), np.std(knn_model_f1_scores)))\n",
        "print ('SVM F1 scroe %.2f (std. %.2fs)'%(np.mean(svm_model_f1_scores), np.std(svm_model_f1_scores)))\n",
        "print ('Neural network F1 scroe %.2f (std. %.2fs)'%(np.mean(nn_model_f1_scores), np.std(nn_model_f1_scores)))\n",
        "print ('Logistic regression F1 scroe %.2f (std. %.2fs)'%(np.mean(lr_model_f1_scores), np.std(lr_model_f1_scores)))\n",
        "\n"
      ],
      "metadata": {
        "id": "8KqYjMEkaETl",
        "colab": {
          "base_uri": "https://localhost:8080/"
        },
        "outputId": "2e3bcab9-e2d4-4a2a-b179-454b5a772bc1"
      },
      "execution_count": 9,
      "outputs": [
        {
          "output_type": "stream",
          "name": "stdout",
          "text": [
            "Random forest F1 scroe 0.75 (std. 0.04s)\n",
            "KNN F1 scroe 0.67 (std. 0.06s)\n",
            "SVM F1 scroe 0.77 (std. 0.04s)\n",
            "Neural network F1 scroe 0.75 (std. 0.06s)\n",
            "Logistic regression F1 scroe 0.75 (std. 0.06s)\n"
          ]
        }
      ]
    },
    {
      "cell_type": "code",
      "source": [],
      "metadata": {
        "id": "hHOxD_fXbD2X"
      },
      "execution_count": null,
      "outputs": []
    }
  ]
}